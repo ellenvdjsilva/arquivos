{
  "nbformat": 4,
  "nbformat_minor": 0,
  "metadata": {
    "colab": {
      "provenance": [],
      "authorship_tag": "ABX9TyMnLLFFkpizI7INo9tpkyU7",
      "include_colab_link": true
    },
    "kernelspec": {
      "name": "python3",
      "display_name": "Python 3"
    },
    "language_info": {
      "name": "python"
    }
  },
  "cells": [
    {
      "cell_type": "markdown",
      "metadata": {
        "id": "view-in-github",
        "colab_type": "text"
      },
      "source": [
        "<a href=\"https://colab.research.google.com/github/ellenvdjsilva/arquivos/blob/main/Arquivos.ipynb\" target=\"_parent\"><img src=\"https://colab.research.google.com/assets/colab-badge.svg\" alt=\"Open In Colab\"/></a>"
      ]
    },
    {
      "cell_type": "markdown",
      "source": [
        "> Dados Semi-Estruturados\n",
        "\n",
        "`Dados semiestruturados, são dados que fica no meio termo de não e estrturado, como se fosse meio arrumado e meio bagunçado. Esse tipo de dados são conhecidos por ser evolutivos e adptados, exemplos desses dados, são arquivos do tipo json, xml, owl. Eles contem multiplos dados em sua criação.  São identificados como DataFiction(São dados armarzenaveis,causados por eventos naturais e que são muitos produzidos)`\n",
        "\n",
        "\n",
        "\n",
        "\n"
      ],
      "metadata": {
        "id": "UylcrAkDx22p"
      }
    },
    {
      "cell_type": "code",
      "execution_count": null,
      "metadata": {
        "id": "Hfs19-XGagj8"
      },
      "outputs": [],
      "source": [
        "#Criando dados para o arquivo json\n",
        "#vale resltar que pode ser feitos em listas, dicionarios ou tuplas\n",
        "import json\n",
        "dados = {'nome':'Ellen', 'perfil': 'introvertido', 'aprendizado': [{'aprendizado':'Dados'}, {'aprendizado':'Python'}] , 'habilidades':[{'habilidades':'criatividade'}, {'habilidades':'memorização'}] }\n",
        "\n",
        "#aqui está criando o arquivo json\n",
        "with open(r'\\dados.json', 'w') as json_file:\n",
        "  json.dump(dados, json_file, indent=4)"
      ]
    },
    {
      "cell_type": "code",
      "source": [
        "#Criando um arquivo xml\n",
        "from xml.dom import minidom \n",
        "import os \n",
        "\n",
        "raiz = minidom.Document()\n",
        "\n",
        "xml = raiz.createElement('raiz')\n",
        "\n",
        "filho = raiz.createElement('produto')\n",
        "filho.setAttribute('nome', 'filho para pai')\n",
        "\n",
        "xml.appendChild(filho)\n",
        "\n",
        "xml_str = raiz.toprettyxml(indent ='\\t')\n",
        "\n",
        "save_path_file = \"fpp.xml\"\n",
        "\n",
        "with open(save_path_file, 'w') as f:\n",
        "  f.write(xml_str)"
      ],
      "metadata": {
        "id": "FFW9y-aMvZA8"
      },
      "execution_count": null,
      "outputs": []
    },
    {
      "cell_type": "code",
      "source": [
        "#Criando arquivo owl"
      ],
      "metadata": {
        "id": "jjGBLXAGxxXH"
      },
      "execution_count": null,
      "outputs": []
    }
  ]
}